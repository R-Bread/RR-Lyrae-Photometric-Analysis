{
 "cells": [
  {
   "cell_type": "code",
   "execution_count": 1,
   "metadata": {},
   "outputs": [],
   "source": [
    "import pandas as pd\n",
    "import numpy as np\n",
    "import matplotlib.pyplot as plt\n",
    "from scipy import optimize, signal"
   ]
  },
  {
   "cell_type": "code",
   "execution_count": 2,
   "metadata": {},
   "outputs": [
    {
     "data": {
      "text/html": [
       "<div>\n",
       "<style scoped>\n",
       "    .dataframe tbody tr th:only-of-type {\n",
       "        vertical-align: middle;\n",
       "    }\n",
       "\n",
       "    .dataframe tbody tr th {\n",
       "        vertical-align: top;\n",
       "    }\n",
       "\n",
       "    .dataframe thead th {\n",
       "        text-align: right;\n",
       "    }\n",
       "</style>\n",
       "<table border=\"1\" class=\"dataframe\">\n",
       "  <thead>\n",
       "    <tr style=\"text-align: right;\">\n",
       "      <th></th>\n",
       "      <th>time</th>\n",
       "      <th>tar_mag_psf</th>\n",
       "      <th>tar_mag_psf_err</th>\n",
       "      <th>filter</th>\n",
       "    </tr>\n",
       "  </thead>\n",
       "  <tbody>\n",
       "    <tr>\n",
       "      <th>0</th>\n",
       "      <td>61370.269</td>\n",
       "      <td>14.405148</td>\n",
       "      <td>0.147069</td>\n",
       "      <td>z</td>\n",
       "    </tr>\n",
       "    <tr>\n",
       "      <th>1</th>\n",
       "      <td>62278.228</td>\n",
       "      <td>14.373457</td>\n",
       "      <td>0.232219</td>\n",
       "      <td>z</td>\n",
       "    </tr>\n",
       "    <tr>\n",
       "      <th>2</th>\n",
       "      <td>62837.873</td>\n",
       "      <td>14.427374</td>\n",
       "      <td>0.365593</td>\n",
       "      <td>z</td>\n",
       "    </tr>\n",
       "    <tr>\n",
       "      <th>3</th>\n",
       "      <td>63739.645</td>\n",
       "      <td>14.549014</td>\n",
       "      <td>0.323183</td>\n",
       "      <td>z</td>\n",
       "    </tr>\n",
       "    <tr>\n",
       "      <th>4</th>\n",
       "      <td>66798.808</td>\n",
       "      <td>14.322212</td>\n",
       "      <td>0.098737</td>\n",
       "      <td>z</td>\n",
       "    </tr>\n",
       "  </tbody>\n",
       "</table>\n",
       "</div>"
      ],
      "text/plain": [
       "        time  tar_mag_psf  tar_mag_psf_err filter\n",
       "0  61370.269    14.405148         0.147069      z\n",
       "1  62278.228    14.373457         0.232219      z\n",
       "2  62837.873    14.427374         0.365593      z\n",
       "3  63739.645    14.549014         0.323183      z\n",
       "4  66798.808    14.322212         0.098737      z"
      ]
     },
     "execution_count": 2,
     "metadata": {},
     "output_type": "execute_result"
    }
   ],
   "source": [
    "df = pd.read_csv(\"psf_magnitudes.csv\")\n",
    "df = df.drop(columns = ['Unnamed: 0'])\n",
    "df.head()"
   ]
  },
  {
   "cell_type": "code",
   "execution_count": 3,
   "metadata": {},
   "outputs": [],
   "source": [
    "def sin_harm(x, T, a0, a1, phi1):\n",
    "    # a1 = 0.8\n",
    "    # a2 = 0.8\n",
    "    # # phi2 = phi1\n",
    "    w = 2 * np.pi / (3600*T)\n",
    "    return a0 + a1 * np.sin(w * x + phi1)\n",
    "\n",
    "def mse(y_true, y_pred):\n",
    "    return np.mean(np.square(y_true - y_pred))"
   ]
  },
  {
   "cell_type": "code",
   "execution_count": 4,
   "metadata": {},
   "outputs": [],
   "source": [
    "def sin_harm_2nd(x, T, a0, a1, phi1, a2, phi2):\n",
    "        w = 2 * np.pi / (3600*T)\n",
    "        \n",
    "        # if k==0:\n",
    "        #     a0 = 14.3\n",
    "        #     # w2 = 0.5\n",
    "        # elif k==1:\n",
    "        #     a0 = 14.3\n",
    "        #     # w2 = 0.32\n",
    "        # elif k==2:\n",
    "        #     a0 = 14.3\n",
    "        #     # w2 = 0.28\n",
    "        # elif k==3:\n",
    "        #     a0 = 14.3\n",
    "            # w2 = 0.29\n",
    "        # a0 = (max(y_data[band])+min(magnitudes))/2\n",
    "        # return signal.sawtooth(w1 * x + phi1, w2) * a1 + a0\n",
    "        return a0 + a1 * np.sin(w * x + phi1) + a2 * np.sin( 2 * w * x + phi2)"
   ]
  },
  {
   "cell_type": "code",
   "execution_count": 5,
   "metadata": {},
   "outputs": [
    {
     "data": {
      "text/plain": [
       "array(['z', 'i', 'g', 'r'], dtype=object)"
      ]
     },
     "execution_count": 5,
     "metadata": {},
     "output_type": "execute_result"
    }
   ],
   "source": [
    "filters = df['filter'].unique()\n",
    "filters"
   ]
  },
  {
   "cell_type": "code",
   "execution_count": 6,
   "metadata": {},
   "outputs": [
    {
     "name": "stdout",
     "output_type": "stream",
     "text": [
      "{'z': array([ 5.27485743, 14.12164428,  0.3398218 ,  5.80056177,  0.11645256,\n",
      "       15.12503629]), 'i': array([ 4.23773266, 13.75120682,  0.36787977,  1.86780022,  0.71899974,\n",
      "        6.31711522]), 'g': array([ 5.38192408, 14.14360215,  0.56020006,  6.39937256,  0.19220261,\n",
      "       16.44777329]), 'r': array([ 4.26126061, 14.00701998,  0.42239319,  0.58491316,  0.13125554,\n",
      "       -5.9422181 ])}\n"
     ]
    }
   ],
   "source": [
    "params = {}\n",
    "params_covariance = {}\n",
    "for filter in filters:\n",
    "    time_series = df[(df['filter']==filter)]['time']\n",
    "    magnitudes = df[(df['filter']==filter)]['tar_mag_psf']\n",
    "    # print(time_series, magnitudes)\n",
    "    params[filter], params_covariance[filter] = optimize.curve_fit(sin_harm_2nd, time_series, magnitudes,\n",
    "                                                                   bounds = ([3]+[-np.inf]*5,\n",
    "                                                                             [np.inf]*6))\n",
    "\n",
    "    y_fit1 = sin_harm_2nd(np.arange(min(time_series), max(time_series), 200), *params[filter])\n",
    "    y_fit2 = sin_harm_2nd(time_series, *params[filter])\n",
    "\n",
    "    plt.gca().invert_yaxis() \n",
    "    plt.plot(time_series, magnitudes, label='data')\n",
    "    plt.plot(np.arange(min(time_series), max(time_series), 200), y_fit1, label='fit')\n",
    "    plt.plot(time_series, y_fit2, label='fit (only at data points)')\n",
    "    plt.legend(loc='best')\n",
    "\n",
    "    plt.title('band: {}, time: {:.2f}h, fit mse error: {:.5f}'.format(filter,params[filter][0], mse(magnitudes, y_fit2)))\n",
    "    plt.savefig(filter+'.png')\n",
    "    plt.close()\n",
    "print(params)\n"
   ]
  },
  {
   "cell_type": "code",
   "execution_count": 7,
   "metadata": {},
   "outputs": [
    {
     "name": "stdout",
     "output_type": "stream",
     "text": [
      "{'z': 5.200000000000002, 'i': 6.200000000000003, 'g': 5.400000000000002, 'r': 5.8000000000000025} {'z': array([14.122185  ,  0.34447141,  5.48043327,  0.11236247,  1.92489632]), 'i': array([14.10708421, -0.32229425, -0.0975062 , -0.16244216,  0.39291146]), 'g': array([14.14457711,  0.55999861,  0.19332247, -0.19025368,  0.88554259]), 'r': array([14.06597869,  0.41871422,  1.63722088,  0.16093129,  0.67273845])}\n"
     ]
    }
   ],
   "source": [
    "final_params = {}\n",
    "final_params_covariance = {}\n",
    "\n",
    "final_periods = {}\n",
    "\n",
    "for filter in filters:\n",
    "    error = np.inf\n",
    "    time_series = df[(df['filter']==filter)]['time']\n",
    "    magnitudes = df[(df['filter']==filter)]['tar_mag_psf']\n",
    "\n",
    "    for time_period in np.arange(3,24,0.2):\n",
    "        params, params_covariance = optimize.curve_fit((lambda x, a0, a1, phi1, a2, phi2 : sin_harm_2nd(x, time_period, a0, a1, phi1, a2, phi2)),\n",
    "                                                                    time_series, magnitudes)\n",
    "\n",
    "        y_fit1 = sin_harm_2nd(np.arange(min(time_series), max(time_series), 200), time_period, *params)\n",
    "        y_fit2 = sin_harm_2nd(time_series, time_period, *params)\n",
    "\n",
    "        this_error = mse(magnitudes, y_fit2)\n",
    "        if (error > this_error):\n",
    "            error = this_error\n",
    "            final_periods[filter] = time_period\n",
    "            final_params[filter] = params\n",
    "            final_params_covariance[filter] = params_covariance\n",
    "\n",
    "    y_fit1 = sin_harm_2nd(np.arange(min(time_series), max(time_series), 200), final_periods[filter], *final_params[filter])\n",
    "    y_fit2 = sin_harm_2nd(time_series, final_periods[filter], *final_params[filter])\n",
    "\n",
    "    plt.gca().invert_yaxis() \n",
    "    plt.plot(time_series, magnitudes, label='data')\n",
    "    plt.plot(np.arange(min(time_series), max(time_series), 200), y_fit1, label='fit')\n",
    "    plt.plot(time_series, y_fit2, label='fit (only at data points)')\n",
    "    plt.legend(loc='best')\n",
    "\n",
    "    plt.title('band: {}, period: {:.2f}h, fit mse error: {:.5f}'.format(filter,final_periods[filter], error))\n",
    "    plt.savefig(filter+'.png')\n",
    "    plt.close()\n",
    "\n",
    "print(final_periods, final_params)\n"
   ]
  },
  {
   "cell_type": "code",
   "execution_count": 11,
   "metadata": {},
   "outputs": [
    {
     "name": "stdout",
     "output_type": "stream",
     "text": [
      "{'z': 11.000000000000007, 'i': 10.600000000000007, 'g': 7.800000000000004, 'r': 10.200000000000006} {'z': array([0.29691732, 0.58126495, 0.44434969, 0.19143381]), 'i': array([-0.45132829,  1.8684654 ,  0.12822582,  0.86554178]), 'g': array([ 0.52861268,  1.00628116, -0.21179187,  1.25401639]), 'r': array([-0.49157262,  1.48437779, -0.14734272,  8.66455048])}\n"
     ]
    }
   ],
   "source": [
    "final_params = {}\n",
    "final_params_covariance = {}\n",
    "\n",
    "final_periods = {}\n",
    "\n",
    "for filter in filters:\n",
    "    error = np.inf\n",
    "    time_series = df[(df['filter']==filter)]['time']\n",
    "    magnitudes = df[(df['filter']==filter)]['tar_mag_psf']\n",
    "\n",
    "    for time_period in np.arange(3,24,0.2):\n",
    "        params, params_covariance = optimize.curve_fit((lambda x, a1, phi1, a2, phi2 : sin_harm_2nd(x, time_period, 14.3, a1, phi1, a2, phi2)),\n",
    "                                                                    time_series, magnitudes)\n",
    "\n",
    "        y_fit1 = sin_harm_2nd(np.arange(min(time_series), max(time_series), 200), time_period, 14.3, *params)\n",
    "        y_fit2 = sin_harm_2nd(time_series, time_period, 14.3, *params)\n",
    "\n",
    "        this_error = mse(magnitudes, y_fit2)\n",
    "        if (error > this_error):\n",
    "            error = this_error\n",
    "            final_periods[filter] = time_period\n",
    "            final_params[filter] = params\n",
    "            final_params_covariance[filter] = params_covariance\n",
    "\n",
    "    y_fit1 = sin_harm_2nd(np.arange(min(time_series), max(time_series), 200), final_periods[filter], 14.3, *final_params[filter])\n",
    "    y_fit2 = sin_harm_2nd(time_series, final_periods[filter], 14.3, *final_params[filter])\n",
    "\n",
    "    plt.gca().invert_yaxis() \n",
    "    plt.plot(time_series, magnitudes, label='data')\n",
    "    plt.plot(np.arange(min(time_series), max(time_series), 200), y_fit1, label='fit')\n",
    "    plt.plot(time_series, y_fit2, label='fit (only at data points)')\n",
    "    plt.legend(loc='best')\n",
    "\n",
    "    plt.title('band: {}, period: {:.2f}h, fit mse error: {:.5f}'.format(filter,final_periods[filter], error))\n",
    "    plt.savefig(filter+'.png')\n",
    "    plt.close()\n",
    "\n",
    "print(final_periods, final_params)\n"
   ]
  },
  {
   "cell_type": "code",
   "execution_count": null,
   "metadata": {},
   "outputs": [],
   "source": []
  }
 ],
 "metadata": {
  "kernelspec": {
   "display_name": "Python 3",
   "language": "python",
   "name": "python3"
  },
  "language_info": {
   "codemirror_mode": {
    "name": "ipython",
    "version": 3
   },
   "file_extension": ".py",
   "mimetype": "text/x-python",
   "name": "python",
   "nbconvert_exporter": "python",
   "pygments_lexer": "ipython3",
   "version": "3.11.2"
  },
  "orig_nbformat": 4
 },
 "nbformat": 4,
 "nbformat_minor": 2
}
